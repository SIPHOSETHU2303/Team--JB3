{
  "nbformat": 4,
  "nbformat_minor": 0,
  "metadata": {
    "colab": {
      "provenance": []
    },
    "kernelspec": {
      "name": "python3",
      "display_name": "Python 3"
    },
    "language_info": {
      "name": "python"
    }
  },
  "cells": [
    {
      "cell_type": "markdown",
      "source": [
        "<div align=\"center\" style=\"font-size: 40%; text-align: center; margin: 0 auto\">\n",
        "    <img src=\"https://mcdn.wallpapersafari.com/medium/67/98/JKSuGa.jpg\" style=\"display: block; margin-left: auto; margin-right: auto; width: 800px; height: 200px;\" />\n",
        "</div>\n"
      ],
      "metadata": {
        "id": "DjtSC7SGjLJG"
      }
    },
    {
      "cell_type": "markdown",
      "source": [
        "### **Project Overview**"
      ],
      "metadata": {
        "id": "kMN-uoI9ZTWd"
      }
    },
    {
      "cell_type": "code",
      "source": [],
      "metadata": {
        "id": "IE-FL_GyZOZA"
      },
      "execution_count": null,
      "outputs": []
    },
    {
      "cell_type": "markdown",
      "source": [
        "### **Loading Packages**"
      ],
      "metadata": {
        "id": "v0FVTYyHZq6y"
      }
    },
    {
      "cell_type": "code",
      "source": [],
      "metadata": {
        "id": "w5cO5t89Z2UY"
      },
      "execution_count": null,
      "outputs": []
    },
    {
      "cell_type": "markdown",
      "source": [
        "### **Data Loading**"
      ],
      "metadata": {
        "id": "cK1OssuzaKSe"
      }
    },
    {
      "cell_type": "code",
      "source": [],
      "metadata": {
        "id": "ENI4j708aRRK"
      },
      "execution_count": null,
      "outputs": []
    },
    {
      "cell_type": "markdown",
      "source": [
        "### **Initial Data Inspection**"
      ],
      "metadata": {
        "id": "fNuLxiQraUEx"
      }
    },
    {
      "cell_type": "code",
      "source": [],
      "metadata": {
        "id": "YQZZFZ3gaeII"
      },
      "execution_count": null,
      "outputs": []
    },
    {
      "cell_type": "markdown",
      "source": [
        "###**Data Cleaning**"
      ],
      "metadata": {
        "id": "7JFjfG35al4Y"
      }
    },
    {
      "cell_type": "code",
      "source": [],
      "metadata": {
        "id": "EcpYEIH5at_R"
      },
      "execution_count": null,
      "outputs": []
    },
    {
      "cell_type": "markdown",
      "source": [
        "### **Exploratory Data Analysis**"
      ],
      "metadata": {
        "id": "PIKgLzhza4US"
      }
    },
    {
      "cell_type": "code",
      "source": [],
      "metadata": {
        "id": "1LvfBHkRa_Og"
      },
      "execution_count": null,
      "outputs": []
    },
    {
      "cell_type": "markdown",
      "source": [
        "### **Unsupervised Learning Models**"
      ],
      "metadata": {
        "id": "xs9YGsJYbAhY"
      }
    },
    {
      "cell_type": "code",
      "source": [],
      "metadata": {
        "id": "vCtu0lmjdUIY"
      },
      "execution_count": null,
      "outputs": []
    },
    {
      "cell_type": "markdown",
      "source": [
        "### **Conclusions and Insights**"
      ],
      "metadata": {
        "id": "jbKTdYasde7d"
      }
    },
    {
      "cell_type": "code",
      "source": [],
      "metadata": {
        "id": "6MDB6458j1o9"
      },
      "execution_count": null,
      "outputs": []
    }
  ]
}