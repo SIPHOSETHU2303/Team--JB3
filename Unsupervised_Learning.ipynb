{
  "cells": [
    {
      "cell_type": "markdown",
      "metadata": {},
      "source": [
        "# Anime Recommender System Project 2024"
      ]
    },
    {
      "cell_type": "markdown",
      "metadata": {
        "id": "DjtSC7SGjLJG"
      },
      "source": [
        "<div align=\"center\" style=\"font-size: 40%; text-align: center; margin: 0 auto\">\n",
        "    <img src=\"https://mcdn.wallpapersafari.com/medium/67/98/JKSuGa.jpg\" style=\"display: block; margin-left: auto; margin-right: auto; width: 800px; height: 200px;\" />\n",
        "</div>\n"
      ]
    },
    {
      "cell_type": "markdown",
      "metadata": {},
      "source": []
    },
    {
      "cell_type": "markdown",
      "metadata": {
        "id": "kMN-uoI9ZTWd"
      },
      "source": [
        "### **Project Overview**"
      ]
    },
    {
      "cell_type": "code",
      "execution_count": null,
      "metadata": {
        "id": "IE-FL_GyZOZA"
      },
      "outputs": [],
      "source": []
    },
    {
      "cell_type": "markdown",
      "metadata": {},
      "source": []
    },
    {
      "cell_type": "markdown",
      "metadata": {
        "id": "v0FVTYyHZq6y"
      },
      "source": [
        "### **Loading Packages**"
      ]
    },
    {
      "cell_type": "code",
      "execution_count": 73,
      "metadata": {
        "id": "w5cO5t89Z2UY"
      },
      "outputs": [],
      "source": [
        "import numpy as np\n",
        "import pandas as pd\n",
        "import csv\n",
        "import pandas as pd\n",
        "import nltk\n",
        "from nltk.corpus import stopwords\n",
        "from nltk.tokenize import word_tokenize\n",
        "import string\n",
        "\n",
        "from nltk.tokenize import word_tokenize\n",
        "from nltk.stem import WordNetLemmatizer\n",
        "import re\n",
        "import warnings\n",
        "warnings.filterwarnings(\"ignore\", category=FutureWarning)\n"
      ]
    },
    {
      "cell_type": "code",
      "execution_count": 74,
      "metadata": {},
      "outputs": [
        {
          "name": "stderr",
          "output_type": "stream",
          "text": [
            "[nltk_data] Downloading package stopwords to\n",
            "[nltk_data]     C:\\Users\\Thabo\\AppData\\Roaming\\nltk_data...\n",
            "[nltk_data]   Package stopwords is already up-to-date!\n",
            "[nltk_data] Downloading package punkt to\n",
            "[nltk_data]     C:\\Users\\Thabo\\AppData\\Roaming\\nltk_data...\n",
            "[nltk_data]   Package punkt is already up-to-date!\n"
          ]
        },
        {
          "data": {
            "text/plain": [
              "True"
            ]
          },
          "execution_count": 74,
          "metadata": {},
          "output_type": "execute_result"
        }
      ],
      "source": [
        "# Download stopwords\n",
        "nltk.download('stopwords')\n",
        "nltk.download('punkt')\n"
      ]
    },
    {
      "cell_type": "markdown",
      "metadata": {},
      "source": [
        "### Loading Data \n",
        ">To begin our data analysis, we import and load our respective datasets into Pandas dataframes. These datasets include the 'anime_data', 'train_data', and 'test_data' CSV files."
      ]
    },
    {
      "cell_type": "code",
      "execution_count": 75,
      "metadata": {
        "id": "ENI4j708aRRK"
      },
      "outputs": [],
      "source": [
        "# loading dataset\n",
        "anime_df = pd.read_csv(\"anime-recommender-system-project-2024\\\\anime.csv\")\n",
        "\n",
        "test_df = pd.read_csv(\"anime-recommender-system-project-2024\\\\test.csv\")\n",
        "\n",
        "train_df = pd.read_csv(\"anime-recommender-system-project-2024\\\\train.csv\")\n"
      ]
    },
    {
      "cell_type": "markdown",
      "metadata": {},
      "source": [
        ">To maintain the integrity of the original data and prevent any unintended modifications, we made a copy of the dataframe using the df.copy() method. This copy was then referred to as df_copy for both dataframes."
      ]
    },
    {
      "cell_type": "code",
      "execution_count": 76,
      "metadata": {},
      "outputs": [],
      "source": [
        "# The copy of the dataframe\n",
        "anime_df_copy = anime_df.copy()\n",
        "\n",
        "test_df_copy = test_df.copy()\n",
        "\n",
        "train_df_copy = train_df.copy()"
      ]
    },
    {
      "cell_type": "markdown",
      "metadata": {
        "id": "fNuLxiQraUEx"
      },
      "source": [
        "### **Initial Data Inspection**"
      ]
    },
    {
      "cell_type": "code",
      "execution_count": null,
      "metadata": {
        "id": "YQZZFZ3gaeII"
      },
      "outputs": [],
      "source": []
    },
    {
      "cell_type": "markdown",
      "metadata": {
        "id": "7JFjfG35al4Y"
      },
      "source": [
        "###**Data Cleaning**"
      ]
    },
    {
      "cell_type": "markdown",
      "metadata": {},
      "source": [
        ">Clean data plays a critical role in  models. When the data is free from errors, inconsistencies, and inaccuracies, it ensures that the models are built on a foundation of accurate and relevant information. As a result, the predictive performance and reliability of the models are significantly improved. This allows the models to make more precise predictions and produce more dependable results, ultimately leading to better decision-making and outcomes.\n"
      ]
    },
    {
      "cell_type": "code",
      "execution_count": 77,
      "metadata": {
        "id": "EcpYEIH5at_R"
      },
      "outputs": [
        {
          "data": {
            "text/html": [
              "<div>\n",
              "<style scoped>\n",
              "    .dataframe tbody tr th:only-of-type {\n",
              "        vertical-align: middle;\n",
              "    }\n",
              "\n",
              "    .dataframe tbody tr th {\n",
              "        vertical-align: top;\n",
              "    }\n",
              "\n",
              "    .dataframe thead th {\n",
              "        text-align: right;\n",
              "    }\n",
              "</style>\n",
              "<table border=\"1\" class=\"dataframe\">\n",
              "  <thead>\n",
              "    <tr style=\"text-align: right;\">\n",
              "      <th></th>\n",
              "      <th>anime_id</th>\n",
              "      <th>name</th>\n",
              "      <th>genre</th>\n",
              "      <th>type</th>\n",
              "      <th>episodes</th>\n",
              "      <th>rating</th>\n",
              "      <th>members</th>\n",
              "    </tr>\n",
              "  </thead>\n",
              "  <tbody>\n",
              "    <tr>\n",
              "      <th>0</th>\n",
              "      <td>32281</td>\n",
              "      <td>Kimi no Na wa.</td>\n",
              "      <td>Drama, Romance, School, Supernatural</td>\n",
              "      <td>Movie</td>\n",
              "      <td>1</td>\n",
              "      <td>9.37</td>\n",
              "      <td>200630</td>\n",
              "    </tr>\n",
              "    <tr>\n",
              "      <th>1</th>\n",
              "      <td>5114</td>\n",
              "      <td>Fullmetal Alchemist: Brotherhood</td>\n",
              "      <td>Action, Adventure, Drama, Fantasy, Magic, Mili...</td>\n",
              "      <td>TV</td>\n",
              "      <td>64</td>\n",
              "      <td>9.26</td>\n",
              "      <td>793665</td>\n",
              "    </tr>\n",
              "    <tr>\n",
              "      <th>2</th>\n",
              "      <td>28977</td>\n",
              "      <td>Gintama°</td>\n",
              "      <td>Action, Comedy, Historical, Parody, Samurai, S...</td>\n",
              "      <td>TV</td>\n",
              "      <td>51</td>\n",
              "      <td>9.25</td>\n",
              "      <td>114262</td>\n",
              "    </tr>\n",
              "    <tr>\n",
              "      <th>3</th>\n",
              "      <td>9253</td>\n",
              "      <td>Steins;Gate</td>\n",
              "      <td>Sci-Fi, Thriller</td>\n",
              "      <td>TV</td>\n",
              "      <td>24</td>\n",
              "      <td>9.17</td>\n",
              "      <td>673572</td>\n",
              "    </tr>\n",
              "    <tr>\n",
              "      <th>4</th>\n",
              "      <td>9969</td>\n",
              "      <td>Gintama&amp;#039;</td>\n",
              "      <td>Action, Comedy, Historical, Parody, Samurai, S...</td>\n",
              "      <td>TV</td>\n",
              "      <td>51</td>\n",
              "      <td>9.16</td>\n",
              "      <td>151266</td>\n",
              "    </tr>\n",
              "  </tbody>\n",
              "</table>\n",
              "</div>"
            ],
            "text/plain": [
              "   anime_id                              name  \\\n",
              "0     32281                    Kimi no Na wa.   \n",
              "1      5114  Fullmetal Alchemist: Brotherhood   \n",
              "2     28977                          Gintama°   \n",
              "3      9253                       Steins;Gate   \n",
              "4      9969                     Gintama&#039;   \n",
              "\n",
              "                                               genre   type episodes  rating  \\\n",
              "0               Drama, Romance, School, Supernatural  Movie        1    9.37   \n",
              "1  Action, Adventure, Drama, Fantasy, Magic, Mili...     TV       64    9.26   \n",
              "2  Action, Comedy, Historical, Parody, Samurai, S...     TV       51    9.25   \n",
              "3                                   Sci-Fi, Thriller     TV       24    9.17   \n",
              "4  Action, Comedy, Historical, Parody, Samurai, S...     TV       51    9.16   \n",
              "\n",
              "   members  \n",
              "0   200630  \n",
              "1   793665  \n",
              "2   114262  \n",
              "3   673572  \n",
              "4   151266  "
            ]
          },
          "execution_count": 77,
          "metadata": {},
          "output_type": "execute_result"
        }
      ],
      "source": [
        "anime_df_copy.head()"
      ]
    },
    {
      "cell_type": "code",
      "execution_count": 78,
      "metadata": {},
      "outputs": [
        {
          "data": {
            "text/plain": [
              "(12294, 7)"
            ]
          },
          "execution_count": 78,
          "metadata": {},
          "output_type": "execute_result"
        }
      ],
      "source": [
        "\n",
        "anime_df_copy.shape"
      ]
    },
    {
      "cell_type": "code",
      "execution_count": 79,
      "metadata": {},
      "outputs": [
        {
          "name": "stdout",
          "output_type": "stream",
          "text": [
            "Index(['anime_id', 'name', 'genre', 'type', 'episodes', 'rating', 'members'], dtype='object')\n"
          ]
        }
      ],
      "source": [
        "# Check the columns of the DataFrame\n",
        "print(anime_df_copy.columns)"
      ]
    },
    {
      "cell_type": "markdown",
      "metadata": {},
      "source": [
        ">Before diving into any data-related tasks, it is essential to begin by examining the column names, checking the number of non-null values in each column, understanding the data types of the columns, and assessing the memory usage of the DataFrame. This preliminary information is crucial for conducting thorough data cleaning, preprocessing, and analysis tasks, thereby ensuring the accuracy and integrity of the subsequent data operations"
      ]
    },
    {
      "cell_type": "code",
      "execution_count": 80,
      "metadata": {},
      "outputs": [
        {
          "name": "stdout",
          "output_type": "stream",
          "text": [
            "<class 'pandas.core.frame.DataFrame'>\n",
            "RangeIndex: 12294 entries, 0 to 12293\n",
            "Data columns (total 7 columns):\n",
            " #   Column    Non-Null Count  Dtype  \n",
            "---  ------    --------------  -----  \n",
            " 0   anime_id  12294 non-null  int64  \n",
            " 1   name      12294 non-null  object \n",
            " 2   genre     12232 non-null  object \n",
            " 3   type      12269 non-null  object \n",
            " 4   episodes  12294 non-null  object \n",
            " 5   rating    12064 non-null  float64\n",
            " 6   members   12294 non-null  int64  \n",
            "dtypes: float64(1), int64(2), object(4)\n",
            "memory usage: 672.5+ KB\n"
          ]
        }
      ],
      "source": [
        "anime_df_copy.info()"
      ]
    },
    {
      "cell_type": "markdown",
      "metadata": {},
      "source": [
        "### Removing stop words\n",
        ">Stop words are commonly occurring words that do not contribute to the meaning of a phrase or sentence, and are often filtered out from search queries to improve search results. These words include articles, prepositions, and other frequently used words that do not hold much significance when searching for specific information. Removing stop words helps to focus the search on the most important keywords, resulting in more relevant and accurate search results."
      ]
    },
    {
      "cell_type": "code",
      "execution_count": 81,
      "metadata": {},
      "outputs": [
        {
          "name": "stdout",
          "output_type": "stream",
          "text": [
            "['i', 'me', 'my', 'myself', 'we', 'our', 'ours', 'ourselves', 'you', \"you're\", \"you've\", \"you'll\", \"you'd\", 'your', 'yours', 'yourself', 'yourselves', 'he', 'him', 'his', 'himself', 'she', \"she's\", 'her', 'hers', 'herself', 'it', \"it's\", 'its', 'itself', 'they', 'them', 'their', 'theirs', 'themselves', 'what', 'which', 'who', 'whom', 'this', 'that', \"that'll\", 'these', 'those', 'am', 'is', 'are', 'was', 'were', 'be', 'been', 'being', 'have', 'has', 'had', 'having', 'do', 'does', 'did', 'doing', 'a', 'an', 'the', 'and', 'but', 'if', 'or', 'because', 'as', 'until', 'while', 'of', 'at', 'by', 'for', 'with', 'about', 'against', 'between', 'into', 'through', 'during', 'before', 'after', 'above', 'below', 'to', 'from', 'up', 'down', 'in', 'out', 'on', 'off', 'over', 'under', 'again', 'further', 'then', 'once', 'here', 'there', 'when', 'where', 'why', 'how', 'all', 'any', 'both', 'each', 'few', 'more', 'most', 'other', 'some', 'such', 'no', 'nor', 'not', 'only', 'own', 'same', 'so', 'than', 'too', 'very', 's', 't', 'can', 'will', 'just', 'don', \"don't\", 'should', \"should've\", 'now', 'd', 'll', 'm', 'o', 're', 've', 'y', 'ain', 'aren', \"aren't\", 'couldn', \"couldn't\", 'didn', \"didn't\", 'doesn', \"doesn't\", 'hadn', \"hadn't\", 'hasn', \"hasn't\", 'haven', \"haven't\", 'isn', \"isn't\", 'ma', 'mightn', \"mightn't\", 'mustn', \"mustn't\", 'needn', \"needn't\", 'shan', \"shan't\", 'shouldn', \"shouldn't\", 'wasn', \"wasn't\", 'weren', \"weren't\", 'won', \"won't\", 'wouldn', \"wouldn't\"]\n"
          ]
        }
      ],
      "source": [
        "#We print out the stopwords for English\n",
        "stopwords_list = stopwords.words('english')\n",
        "print(stopwords_list)"
      ]
    },
    {
      "cell_type": "code",
      "execution_count": 82,
      "metadata": {},
      "outputs": [
        {
          "name": "stdout",
          "output_type": "stream",
          "text": [
            "\n",
            "Data without stopwords:\n"
          ]
        },
        {
          "data": {
            "text/html": [
              "<div>\n",
              "<style scoped>\n",
              "    .dataframe tbody tr th:only-of-type {\n",
              "        vertical-align: middle;\n",
              "    }\n",
              "\n",
              "    .dataframe tbody tr th {\n",
              "        vertical-align: top;\n",
              "    }\n",
              "\n",
              "    .dataframe thead th {\n",
              "        text-align: right;\n",
              "    }\n",
              "</style>\n",
              "<table border=\"1\" class=\"dataframe\">\n",
              "  <thead>\n",
              "    <tr style=\"text-align: right;\">\n",
              "      <th></th>\n",
              "      <th>anime_id</th>\n",
              "      <th>name</th>\n",
              "      <th>genre</th>\n",
              "      <th>type</th>\n",
              "      <th>episodes</th>\n",
              "      <th>rating</th>\n",
              "      <th>members</th>\n",
              "    </tr>\n",
              "  </thead>\n",
              "  <tbody>\n",
              "    <tr>\n",
              "      <th>0</th>\n",
              "      <td>32281</td>\n",
              "      <td>Kimi Na wa.</td>\n",
              "      <td>Drama, Romance, School, Supernatural</td>\n",
              "      <td>Movie</td>\n",
              "      <td>1</td>\n",
              "      <td>9.37</td>\n",
              "      <td>200630</td>\n",
              "    </tr>\n",
              "    <tr>\n",
              "      <th>1</th>\n",
              "      <td>5114</td>\n",
              "      <td>Fullmetal Alchemist: Brotherhood</td>\n",
              "      <td>Action, Adventure, Drama, Fantasy, Magic, Mili...</td>\n",
              "      <td>TV</td>\n",
              "      <td>64</td>\n",
              "      <td>9.26</td>\n",
              "      <td>793665</td>\n",
              "    </tr>\n",
              "    <tr>\n",
              "      <th>2</th>\n",
              "      <td>28977</td>\n",
              "      <td>Gintama°</td>\n",
              "      <td>Action, Comedy, Historical, Parody, Samurai, S...</td>\n",
              "      <td>TV</td>\n",
              "      <td>51</td>\n",
              "      <td>9.25</td>\n",
              "      <td>114262</td>\n",
              "    </tr>\n",
              "    <tr>\n",
              "      <th>3</th>\n",
              "      <td>9253</td>\n",
              "      <td>Steins;Gate</td>\n",
              "      <td>Sci-Fi, Thriller</td>\n",
              "      <td>TV</td>\n",
              "      <td>24</td>\n",
              "      <td>9.17</td>\n",
              "      <td>673572</td>\n",
              "    </tr>\n",
              "    <tr>\n",
              "      <th>4</th>\n",
              "      <td>9969</td>\n",
              "      <td>Gintama&amp;#039;</td>\n",
              "      <td>Action, Comedy, Historical, Parody, Samurai, S...</td>\n",
              "      <td>TV</td>\n",
              "      <td>51</td>\n",
              "      <td>9.16</td>\n",
              "      <td>151266</td>\n",
              "    </tr>\n",
              "  </tbody>\n",
              "</table>\n",
              "</div>"
            ],
            "text/plain": [
              "   anime_id                              name  \\\n",
              "0     32281                       Kimi Na wa.   \n",
              "1      5114  Fullmetal Alchemist: Brotherhood   \n",
              "2     28977                          Gintama°   \n",
              "3      9253                       Steins;Gate   \n",
              "4      9969                     Gintama&#039;   \n",
              "\n",
              "                                               genre   type episodes  rating  \\\n",
              "0               Drama, Romance, School, Supernatural  Movie        1    9.37   \n",
              "1  Action, Adventure, Drama, Fantasy, Magic, Mili...     TV       64    9.26   \n",
              "2  Action, Comedy, Historical, Parody, Samurai, S...     TV       51    9.25   \n",
              "3                                   Sci-Fi, Thriller     TV       24    9.17   \n",
              "4  Action, Comedy, Historical, Parody, Samurai, S...     TV       51    9.16   \n",
              "\n",
              "   members  \n",
              "0   200630  \n",
              "1   793665  \n",
              "2   114262  \n",
              "3   673572  \n",
              "4   151266  "
            ]
          },
          "execution_count": 82,
          "metadata": {},
          "output_type": "execute_result"
        }
      ],
      "source": [
        "#We define a function to remove stopwords from a text\n",
        "def remove_stopwords(text):\n",
        "    if isinstance(text, str):\n",
        "        words = text.split() \n",
        "        filtered_words = [word for word in words if word.lower() not in stopwords_list]\n",
        "        return ' '.join(filtered_words)\n",
        "    else:\n",
        "        return text\n",
        "    \n",
        "#Apply function to the dataframe\n",
        "anime_df_copy = anime_df_copy.applymap(remove_stopwords)\n",
        "\n",
        "#Showing the dataframe without stopwords\n",
        "print(\"\\nData without stopwords:\")\n",
        "anime_df_copy.head()"
      ]
    },
    {
      "cell_type": "markdown",
      "metadata": {},
      "source": [
        "### Converting-lowercase letters \n",
        "\n",
        ">We convert all the text into lowercase letters in order to eliminate any distractions caused by capitalization."
      ]
    },
    {
      "cell_type": "code",
      "execution_count": 83,
      "metadata": {},
      "outputs": [
        {
          "name": "stdout",
          "output_type": "stream",
          "text": [
            "\n",
            "lowercase:\n"
          ]
        },
        {
          "data": {
            "text/html": [
              "<div>\n",
              "<style scoped>\n",
              "    .dataframe tbody tr th:only-of-type {\n",
              "        vertical-align: middle;\n",
              "    }\n",
              "\n",
              "    .dataframe tbody tr th {\n",
              "        vertical-align: top;\n",
              "    }\n",
              "\n",
              "    .dataframe thead th {\n",
              "        text-align: right;\n",
              "    }\n",
              "</style>\n",
              "<table border=\"1\" class=\"dataframe\">\n",
              "  <thead>\n",
              "    <tr style=\"text-align: right;\">\n",
              "      <th></th>\n",
              "      <th>anime_id</th>\n",
              "      <th>name</th>\n",
              "      <th>genre</th>\n",
              "      <th>type</th>\n",
              "      <th>episodes</th>\n",
              "      <th>rating</th>\n",
              "      <th>members</th>\n",
              "    </tr>\n",
              "  </thead>\n",
              "  <tbody>\n",
              "    <tr>\n",
              "      <th>0</th>\n",
              "      <td>32281</td>\n",
              "      <td>kimi na wa.</td>\n",
              "      <td>drama, romance, school, supernatural</td>\n",
              "      <td>movie</td>\n",
              "      <td>1</td>\n",
              "      <td>9.37</td>\n",
              "      <td>200630</td>\n",
              "    </tr>\n",
              "    <tr>\n",
              "      <th>1</th>\n",
              "      <td>5114</td>\n",
              "      <td>fullmetal alchemist: brotherhood</td>\n",
              "      <td>action, adventure, drama, fantasy, magic, mili...</td>\n",
              "      <td>tv</td>\n",
              "      <td>64</td>\n",
              "      <td>9.26</td>\n",
              "      <td>793665</td>\n",
              "    </tr>\n",
              "    <tr>\n",
              "      <th>2</th>\n",
              "      <td>28977</td>\n",
              "      <td>gintama°</td>\n",
              "      <td>action, comedy, historical, parody, samurai, s...</td>\n",
              "      <td>tv</td>\n",
              "      <td>51</td>\n",
              "      <td>9.25</td>\n",
              "      <td>114262</td>\n",
              "    </tr>\n",
              "    <tr>\n",
              "      <th>3</th>\n",
              "      <td>9253</td>\n",
              "      <td>steins;gate</td>\n",
              "      <td>sci-fi, thriller</td>\n",
              "      <td>tv</td>\n",
              "      <td>24</td>\n",
              "      <td>9.17</td>\n",
              "      <td>673572</td>\n",
              "    </tr>\n",
              "    <tr>\n",
              "      <th>4</th>\n",
              "      <td>9969</td>\n",
              "      <td>gintama&amp;#039;</td>\n",
              "      <td>action, comedy, historical, parody, samurai, s...</td>\n",
              "      <td>tv</td>\n",
              "      <td>51</td>\n",
              "      <td>9.16</td>\n",
              "      <td>151266</td>\n",
              "    </tr>\n",
              "  </tbody>\n",
              "</table>\n",
              "</div>"
            ],
            "text/plain": [
              "   anime_id                              name  \\\n",
              "0     32281                       kimi na wa.   \n",
              "1      5114  fullmetal alchemist: brotherhood   \n",
              "2     28977                          gintama°   \n",
              "3      9253                       steins;gate   \n",
              "4      9969                     gintama&#039;   \n",
              "\n",
              "                                               genre   type episodes  rating  \\\n",
              "0               drama, romance, school, supernatural  movie        1    9.37   \n",
              "1  action, adventure, drama, fantasy, magic, mili...     tv       64    9.26   \n",
              "2  action, comedy, historical, parody, samurai, s...     tv       51    9.25   \n",
              "3                                   sci-fi, thriller     tv       24    9.17   \n",
              "4  action, comedy, historical, parody, samurai, s...     tv       51    9.16   \n",
              "\n",
              "   members  \n",
              "0   200630  \n",
              "1   793665  \n",
              "2   114262  \n",
              "3   673572  \n",
              "4   151266  "
            ]
          },
          "execution_count": 83,
          "metadata": {},
          "output_type": "execute_result"
        }
      ],
      "source": [
        "# Function to convert to lowercase\n",
        "anime_df_copy = anime_df_copy.applymap(lambda x: x.lower() if isinstance(x, str) else x)\n",
        "#We show the dataframe without punctuation\n",
        "print(\"\\nlowercase:\")\n",
        "anime_df_copy.head()"
      ]
    },
    {
      "cell_type": "markdown",
      "metadata": {},
      "source": [
        "###  Remove punctuation\n",
        ">We eliminate punctuation marks from the dataset to reduce or eliminate potential interference and irrelevant information, aiming to produce a cleaner and more accurate dataset for analysis and processing."
      ]
    },
    {
      "cell_type": "code",
      "execution_count": 84,
      "metadata": {},
      "outputs": [
        {
          "name": "stdout",
          "output_type": "stream",
          "text": [
            "!\"#$%&'()*+,-./:;<=>?@[\\]^_`{|}~\n"
          ]
        }
      ],
      "source": [
        "print(string.punctuation)"
      ]
    },
    {
      "cell_type": "code",
      "execution_count": 85,
      "metadata": {},
      "outputs": [],
      "source": [
        "##Defining a cleaning function\n",
        "def remove_punctuation(text):\n",
        "    if isinstance(text, str):  # Check if the cell contains a string\n",
        "        return text.translate(str.maketrans('', '', string.punctuation))\n",
        "    return text\n",
        "\n",
        "#Apply the function to the dataframe\n",
        "anime_df_copy = anime_df_copy.applymap(remove_punctuation)"
      ]
    },
    {
      "cell_type": "code",
      "execution_count": 86,
      "metadata": {},
      "outputs": [
        {
          "name": "stdout",
          "output_type": "stream",
          "text": [
            "\n",
            "Cleaned Data without punctuation:\n"
          ]
        },
        {
          "data": {
            "text/html": [
              "<div>\n",
              "<style scoped>\n",
              "    .dataframe tbody tr th:only-of-type {\n",
              "        vertical-align: middle;\n",
              "    }\n",
              "\n",
              "    .dataframe tbody tr th {\n",
              "        vertical-align: top;\n",
              "    }\n",
              "\n",
              "    .dataframe thead th {\n",
              "        text-align: right;\n",
              "    }\n",
              "</style>\n",
              "<table border=\"1\" class=\"dataframe\">\n",
              "  <thead>\n",
              "    <tr style=\"text-align: right;\">\n",
              "      <th></th>\n",
              "      <th>anime_id</th>\n",
              "      <th>name</th>\n",
              "      <th>genre</th>\n",
              "      <th>type</th>\n",
              "      <th>episodes</th>\n",
              "      <th>rating</th>\n",
              "      <th>members</th>\n",
              "    </tr>\n",
              "  </thead>\n",
              "  <tbody>\n",
              "    <tr>\n",
              "      <th>0</th>\n",
              "      <td>32281</td>\n",
              "      <td>kimi na wa</td>\n",
              "      <td>drama romance school supernatural</td>\n",
              "      <td>movie</td>\n",
              "      <td>1</td>\n",
              "      <td>9.37</td>\n",
              "      <td>200630</td>\n",
              "    </tr>\n",
              "    <tr>\n",
              "      <th>1</th>\n",
              "      <td>5114</td>\n",
              "      <td>fullmetal alchemist brotherhood</td>\n",
              "      <td>action adventure drama fantasy magic military ...</td>\n",
              "      <td>tv</td>\n",
              "      <td>64</td>\n",
              "      <td>9.26</td>\n",
              "      <td>793665</td>\n",
              "    </tr>\n",
              "    <tr>\n",
              "      <th>2</th>\n",
              "      <td>28977</td>\n",
              "      <td>gintama°</td>\n",
              "      <td>action comedy historical parody samurai scifi ...</td>\n",
              "      <td>tv</td>\n",
              "      <td>51</td>\n",
              "      <td>9.25</td>\n",
              "      <td>114262</td>\n",
              "    </tr>\n",
              "    <tr>\n",
              "      <th>3</th>\n",
              "      <td>9253</td>\n",
              "      <td>steinsgate</td>\n",
              "      <td>scifi thriller</td>\n",
              "      <td>tv</td>\n",
              "      <td>24</td>\n",
              "      <td>9.17</td>\n",
              "      <td>673572</td>\n",
              "    </tr>\n",
              "    <tr>\n",
              "      <th>4</th>\n",
              "      <td>9969</td>\n",
              "      <td>gintama039</td>\n",
              "      <td>action comedy historical parody samurai scifi ...</td>\n",
              "      <td>tv</td>\n",
              "      <td>51</td>\n",
              "      <td>9.16</td>\n",
              "      <td>151266</td>\n",
              "    </tr>\n",
              "  </tbody>\n",
              "</table>\n",
              "</div>"
            ],
            "text/plain": [
              "   anime_id                             name  \\\n",
              "0     32281                       kimi na wa   \n",
              "1      5114  fullmetal alchemist brotherhood   \n",
              "2     28977                         gintama°   \n",
              "3      9253                       steinsgate   \n",
              "4      9969                       gintama039   \n",
              "\n",
              "                                               genre   type episodes  rating  \\\n",
              "0                  drama romance school supernatural  movie        1    9.37   \n",
              "1  action adventure drama fantasy magic military ...     tv       64    9.26   \n",
              "2  action comedy historical parody samurai scifi ...     tv       51    9.25   \n",
              "3                                     scifi thriller     tv       24    9.17   \n",
              "4  action comedy historical parody samurai scifi ...     tv       51    9.16   \n",
              "\n",
              "   members  \n",
              "0   200630  \n",
              "1   793665  \n",
              "2   114262  \n",
              "3   673572  \n",
              "4   151266  "
            ]
          },
          "execution_count": 86,
          "metadata": {},
          "output_type": "execute_result"
        }
      ],
      "source": [
        "print(\"\\nCleaned Data without punctuation:\")\n",
        "anime_df_copy.head()"
      ]
    },
    {
      "cell_type": "markdown",
      "metadata": {},
      "source": [
        "###  Tokenization\n",
        ">A tokenizer breaks down text into smaller units called tokens, which are essentially \"words\". Tokenizers are used to prepare data for analysis by making it cleaner. This process simplifies the text, making it easier to manage and analyze. Tokenization standardizes text into a consistent format, making it easier to compare and perform operations across different texts."
      ]
    },
    {
      "cell_type": "code",
      "execution_count": 87,
      "metadata": {},
      "outputs": [],
      "source": [
        "def tokenize_text(text):\n",
        "    if isinstance(text, str):\n",
        "        return ' '.join(word_tokenize(text))\n",
        "    return text\n",
        "\n",
        "anime_df_copy = anime_df_copy.apply(tokenize_text)"
      ]
    },
    {
      "cell_type": "code",
      "execution_count": 88,
      "metadata": {},
      "outputs": [
        {
          "name": "stdout",
          "output_type": "stream",
          "text": [
            "\n",
            " Showing tokenized data:\n"
          ]
        },
        {
          "data": {
            "text/html": [
              "<div>\n",
              "<style scoped>\n",
              "    .dataframe tbody tr th:only-of-type {\n",
              "        vertical-align: middle;\n",
              "    }\n",
              "\n",
              "    .dataframe tbody tr th {\n",
              "        vertical-align: top;\n",
              "    }\n",
              "\n",
              "    .dataframe thead th {\n",
              "        text-align: right;\n",
              "    }\n",
              "</style>\n",
              "<table border=\"1\" class=\"dataframe\">\n",
              "  <thead>\n",
              "    <tr style=\"text-align: right;\">\n",
              "      <th></th>\n",
              "      <th>anime_id</th>\n",
              "      <th>name</th>\n",
              "      <th>genre</th>\n",
              "      <th>type</th>\n",
              "      <th>episodes</th>\n",
              "      <th>rating</th>\n",
              "      <th>members</th>\n",
              "    </tr>\n",
              "  </thead>\n",
              "  <tbody>\n",
              "    <tr>\n",
              "      <th>0</th>\n",
              "      <td>32281</td>\n",
              "      <td>kimi na wa</td>\n",
              "      <td>drama romance school supernatural</td>\n",
              "      <td>movie</td>\n",
              "      <td>1</td>\n",
              "      <td>9.37</td>\n",
              "      <td>200630</td>\n",
              "    </tr>\n",
              "    <tr>\n",
              "      <th>1</th>\n",
              "      <td>5114</td>\n",
              "      <td>fullmetal alchemist brotherhood</td>\n",
              "      <td>action adventure drama fantasy magic military ...</td>\n",
              "      <td>tv</td>\n",
              "      <td>64</td>\n",
              "      <td>9.26</td>\n",
              "      <td>793665</td>\n",
              "    </tr>\n",
              "    <tr>\n",
              "      <th>2</th>\n",
              "      <td>28977</td>\n",
              "      <td>gintama°</td>\n",
              "      <td>action comedy historical parody samurai scifi ...</td>\n",
              "      <td>tv</td>\n",
              "      <td>51</td>\n",
              "      <td>9.25</td>\n",
              "      <td>114262</td>\n",
              "    </tr>\n",
              "    <tr>\n",
              "      <th>3</th>\n",
              "      <td>9253</td>\n",
              "      <td>steinsgate</td>\n",
              "      <td>scifi thriller</td>\n",
              "      <td>tv</td>\n",
              "      <td>24</td>\n",
              "      <td>9.17</td>\n",
              "      <td>673572</td>\n",
              "    </tr>\n",
              "    <tr>\n",
              "      <th>4</th>\n",
              "      <td>9969</td>\n",
              "      <td>gintama039</td>\n",
              "      <td>action comedy historical parody samurai scifi ...</td>\n",
              "      <td>tv</td>\n",
              "      <td>51</td>\n",
              "      <td>9.16</td>\n",
              "      <td>151266</td>\n",
              "    </tr>\n",
              "  </tbody>\n",
              "</table>\n",
              "</div>"
            ],
            "text/plain": [
              "   anime_id                             name  \\\n",
              "0     32281                       kimi na wa   \n",
              "1      5114  fullmetal alchemist brotherhood   \n",
              "2     28977                         gintama°   \n",
              "3      9253                       steinsgate   \n",
              "4      9969                       gintama039   \n",
              "\n",
              "                                               genre   type episodes  rating  \\\n",
              "0                  drama romance school supernatural  movie        1    9.37   \n",
              "1  action adventure drama fantasy magic military ...     tv       64    9.26   \n",
              "2  action comedy historical parody samurai scifi ...     tv       51    9.25   \n",
              "3                                     scifi thriller     tv       24    9.17   \n",
              "4  action comedy historical parody samurai scifi ...     tv       51    9.16   \n",
              "\n",
              "   members  \n",
              "0   200630  \n",
              "1   793665  \n",
              "2   114262  \n",
              "3   673572  \n",
              "4   151266  "
            ]
          },
          "execution_count": 88,
          "metadata": {},
          "output_type": "execute_result"
        }
      ],
      "source": [
        "print(\"\\n Showing tokenized data:\")\n",
        "anime_df_copy.head()"
      ]
    },
    {
      "cell_type": "markdown",
      "metadata": {},
      "source": [
        "###  Lemmatization \n",
        ">Lemmatization reduces words to their base form, known as the lemma, considering context and part of speech to ensure validity. It maintains the meaning and grammatical integrity of words."
      ]
    },
    {
      "cell_type": "code",
      "execution_count": 89,
      "metadata": {},
      "outputs": [],
      "source": [
        "\n",
        "# Lemmatization function\n",
        "def lemmatize_text(text):\n",
        "    lemmatizer = WordNetLemmatizer()\n",
        "    if isinstance(text, str):\n",
        "        return ' '.join([lemmatizer.lemmatize(word) for word in text.split()])\n",
        "    return text\n",
        "\n",
        "#Apply the function to the dataframe\n",
        "anime_df_copy = anime_df_copy.applymap(lemmatize_text)"
      ]
    },
    {
      "cell_type": "code",
      "execution_count": 90,
      "metadata": {},
      "outputs": [
        {
          "name": "stdout",
          "output_type": "stream",
          "text": [
            "\n",
            "Lemmatized Data:\n"
          ]
        },
        {
          "data": {
            "text/html": [
              "<div>\n",
              "<style scoped>\n",
              "    .dataframe tbody tr th:only-of-type {\n",
              "        vertical-align: middle;\n",
              "    }\n",
              "\n",
              "    .dataframe tbody tr th {\n",
              "        vertical-align: top;\n",
              "    }\n",
              "\n",
              "    .dataframe thead th {\n",
              "        text-align: right;\n",
              "    }\n",
              "</style>\n",
              "<table border=\"1\" class=\"dataframe\">\n",
              "  <thead>\n",
              "    <tr style=\"text-align: right;\">\n",
              "      <th></th>\n",
              "      <th>anime_id</th>\n",
              "      <th>name</th>\n",
              "      <th>genre</th>\n",
              "      <th>type</th>\n",
              "      <th>episodes</th>\n",
              "      <th>rating</th>\n",
              "      <th>members</th>\n",
              "    </tr>\n",
              "  </thead>\n",
              "  <tbody>\n",
              "    <tr>\n",
              "      <th>0</th>\n",
              "      <td>32281</td>\n",
              "      <td>kimi na wa</td>\n",
              "      <td>drama romance school supernatural</td>\n",
              "      <td>movie</td>\n",
              "      <td>1</td>\n",
              "      <td>9.37</td>\n",
              "      <td>200630</td>\n",
              "    </tr>\n",
              "    <tr>\n",
              "      <th>1</th>\n",
              "      <td>5114</td>\n",
              "      <td>fullmetal alchemist brotherhood</td>\n",
              "      <td>action adventure drama fantasy magic military ...</td>\n",
              "      <td>tv</td>\n",
              "      <td>64</td>\n",
              "      <td>9.26</td>\n",
              "      <td>793665</td>\n",
              "    </tr>\n",
              "    <tr>\n",
              "      <th>2</th>\n",
              "      <td>28977</td>\n",
              "      <td>gintama°</td>\n",
              "      <td>action comedy historical parody samurai scifi ...</td>\n",
              "      <td>tv</td>\n",
              "      <td>51</td>\n",
              "      <td>9.25</td>\n",
              "      <td>114262</td>\n",
              "    </tr>\n",
              "    <tr>\n",
              "      <th>3</th>\n",
              "      <td>9253</td>\n",
              "      <td>steinsgate</td>\n",
              "      <td>scifi thriller</td>\n",
              "      <td>tv</td>\n",
              "      <td>24</td>\n",
              "      <td>9.17</td>\n",
              "      <td>673572</td>\n",
              "    </tr>\n",
              "    <tr>\n",
              "      <th>4</th>\n",
              "      <td>9969</td>\n",
              "      <td>gintama039</td>\n",
              "      <td>action comedy historical parody samurai scifi ...</td>\n",
              "      <td>tv</td>\n",
              "      <td>51</td>\n",
              "      <td>9.16</td>\n",
              "      <td>151266</td>\n",
              "    </tr>\n",
              "  </tbody>\n",
              "</table>\n",
              "</div>"
            ],
            "text/plain": [
              "   anime_id                             name  \\\n",
              "0     32281                       kimi na wa   \n",
              "1      5114  fullmetal alchemist brotherhood   \n",
              "2     28977                         gintama°   \n",
              "3      9253                       steinsgate   \n",
              "4      9969                       gintama039   \n",
              "\n",
              "                                               genre   type episodes  rating  \\\n",
              "0                  drama romance school supernatural  movie        1    9.37   \n",
              "1  action adventure drama fantasy magic military ...     tv       64    9.26   \n",
              "2  action comedy historical parody samurai scifi ...     tv       51    9.25   \n",
              "3                                     scifi thriller     tv       24    9.17   \n",
              "4  action comedy historical parody samurai scifi ...     tv       51    9.16   \n",
              "\n",
              "   members  \n",
              "0   200630  \n",
              "1   793665  \n",
              "2   114262  \n",
              "3   673572  \n",
              "4   151266  "
            ]
          },
          "execution_count": 90,
          "metadata": {},
          "output_type": "execute_result"
        }
      ],
      "source": [
        "\n",
        "print(\"\\nLemmatized Data:\")\n",
        "anime_df_copy.head()"
      ]
    },
    {
      "cell_type": "markdown",
      "metadata": {},
      "source": [
        "###  Removing emojis\n",
        ">Emojis are frequently used in text to express emotions or sentiments but can be irrelevant or distracting for certain NLP tasks. Removing emojis is a crucial step in data preprocessing to ensure that the text is clean and standardized."
      ]
    },
    {
      "cell_type": "code",
      "execution_count": 91,
      "metadata": {},
      "outputs": [],
      "source": [
        "#We define a function to remove emojis from the strings\n",
        "def remove_emojis(text):\n",
        "    if isinstance(text, str):  # Check if the cell contains a string\n",
        "        # Define a regex pattern for emojis\n",
        "        emoji_pattern = re.compile(\n",
        "            \"[\" \n",
        "            \"\\U0001F600-\\U0001F64F\"  # emoticons\n",
        "            \"\\U0001F300-\\U0001F5FF\"  # symbols & pictographs\n",
        "            \"\\U0001F680-\\U0001F6FF\"  # transport & map symbols\n",
        "            \"\\U0001F1E0-\\U0001F1FF\"  # flags (iOS)\n",
        "            \"\\U00002702-\\U000027B0\"\n",
        "            \"\\U000024C2-\\U0001F251\"\n",
        "            \"]+\", flags=re.UNICODE)\n",
        "        return emoji_pattern.sub(r'', text)\n",
        "    return text\n"
      ]
    },
    {
      "cell_type": "code",
      "execution_count": 92,
      "metadata": {},
      "outputs": [
        {
          "name": "stdout",
          "output_type": "stream",
          "text": [
            "\n",
            "Cleaned Data without emojis:\n"
          ]
        },
        {
          "data": {
            "text/html": [
              "<div>\n",
              "<style scoped>\n",
              "    .dataframe tbody tr th:only-of-type {\n",
              "        vertical-align: middle;\n",
              "    }\n",
              "\n",
              "    .dataframe tbody tr th {\n",
              "        vertical-align: top;\n",
              "    }\n",
              "\n",
              "    .dataframe thead th {\n",
              "        text-align: right;\n",
              "    }\n",
              "</style>\n",
              "<table border=\"1\" class=\"dataframe\">\n",
              "  <thead>\n",
              "    <tr style=\"text-align: right;\">\n",
              "      <th></th>\n",
              "      <th>anime_id</th>\n",
              "      <th>name</th>\n",
              "      <th>genre</th>\n",
              "      <th>type</th>\n",
              "      <th>episodes</th>\n",
              "      <th>rating</th>\n",
              "      <th>members</th>\n",
              "    </tr>\n",
              "  </thead>\n",
              "  <tbody>\n",
              "    <tr>\n",
              "      <th>0</th>\n",
              "      <td>32281</td>\n",
              "      <td>kimi na wa</td>\n",
              "      <td>drama romance school supernatural</td>\n",
              "      <td>movie</td>\n",
              "      <td>1</td>\n",
              "      <td>9.37</td>\n",
              "      <td>200630</td>\n",
              "    </tr>\n",
              "    <tr>\n",
              "      <th>1</th>\n",
              "      <td>5114</td>\n",
              "      <td>fullmetal alchemist brotherhood</td>\n",
              "      <td>action adventure drama fantasy magic military ...</td>\n",
              "      <td>tv</td>\n",
              "      <td>64</td>\n",
              "      <td>9.26</td>\n",
              "      <td>793665</td>\n",
              "    </tr>\n",
              "    <tr>\n",
              "      <th>2</th>\n",
              "      <td>28977</td>\n",
              "      <td>gintama°</td>\n",
              "      <td>action comedy historical parody samurai scifi ...</td>\n",
              "      <td>tv</td>\n",
              "      <td>51</td>\n",
              "      <td>9.25</td>\n",
              "      <td>114262</td>\n",
              "    </tr>\n",
              "    <tr>\n",
              "      <th>3</th>\n",
              "      <td>9253</td>\n",
              "      <td>steinsgate</td>\n",
              "      <td>scifi thriller</td>\n",
              "      <td>tv</td>\n",
              "      <td>24</td>\n",
              "      <td>9.17</td>\n",
              "      <td>673572</td>\n",
              "    </tr>\n",
              "    <tr>\n",
              "      <th>4</th>\n",
              "      <td>9969</td>\n",
              "      <td>gintama039</td>\n",
              "      <td>action comedy historical parody samurai scifi ...</td>\n",
              "      <td>tv</td>\n",
              "      <td>51</td>\n",
              "      <td>9.16</td>\n",
              "      <td>151266</td>\n",
              "    </tr>\n",
              "  </tbody>\n",
              "</table>\n",
              "</div>"
            ],
            "text/plain": [
              "   anime_id                             name  \\\n",
              "0     32281                       kimi na wa   \n",
              "1      5114  fullmetal alchemist brotherhood   \n",
              "2     28977                         gintama°   \n",
              "3      9253                       steinsgate   \n",
              "4      9969                       gintama039   \n",
              "\n",
              "                                               genre   type episodes  rating  \\\n",
              "0                  drama romance school supernatural  movie        1    9.37   \n",
              "1  action adventure drama fantasy magic military ...     tv       64    9.26   \n",
              "2  action comedy historical parody samurai scifi ...     tv       51    9.25   \n",
              "3                                     scifi thriller     tv       24    9.17   \n",
              "4  action comedy historical parody samurai scifi ...     tv       51    9.16   \n",
              "\n",
              "   members  \n",
              "0   200630  \n",
              "1   793665  \n",
              "2   114262  \n",
              "3   673572  \n",
              "4   151266  "
            ]
          },
          "execution_count": 92,
          "metadata": {},
          "output_type": "execute_result"
        }
      ],
      "source": [
        "\n",
        "#We apply the function to the entire dataframe\n",
        "anime_df_copy.applymap(remove_emojis)\n",
        "print(\"\\nCleaned Data without emojis:\")\n",
        "anime_df_copy.head()"
      ]
    },
    {
      "cell_type": "markdown",
      "metadata": {},
      "source": [
        "\n",
        "#### Stemming\n",
        "> stemming is often used to normalize text, reducing the vocabulary size and helping algorithms focus on the underlying meaning of words rather than their specific forms."
      ]
    },
    {
      "cell_type": "code",
      "execution_count": 93,
      "metadata": {},
      "outputs": [],
      "source": [
        "from nltk import SnowballStemmer, PorterStemmer, LancasterStemmer\n",
        "\n",
        "#Stemming function\n",
        "def stem_text(text):\n",
        "    stemmer = PorterStemmer()\n",
        "    if isinstance(text, str):\n",
        "        return ' '.join([stemmer.stem(word) for word in text.split()])\n",
        "    return text\n",
        "\n",
        "# Apply stemming to the entire DataFrame\n",
        "anime_df_copy = anime_df_copy.apply(stem_text)\n"
      ]
    },
    {
      "cell_type": "code",
      "execution_count": 94,
      "metadata": {},
      "outputs": [
        {
          "name": "stdout",
          "output_type": "stream",
          "text": [
            "\n",
            "Stemmed Data:\n"
          ]
        },
        {
          "data": {
            "text/html": [
              "<div>\n",
              "<style scoped>\n",
              "    .dataframe tbody tr th:only-of-type {\n",
              "        vertical-align: middle;\n",
              "    }\n",
              "\n",
              "    .dataframe tbody tr th {\n",
              "        vertical-align: top;\n",
              "    }\n",
              "\n",
              "    .dataframe thead th {\n",
              "        text-align: right;\n",
              "    }\n",
              "</style>\n",
              "<table border=\"1\" class=\"dataframe\">\n",
              "  <thead>\n",
              "    <tr style=\"text-align: right;\">\n",
              "      <th></th>\n",
              "      <th>anime_id</th>\n",
              "      <th>name</th>\n",
              "      <th>genre</th>\n",
              "      <th>type</th>\n",
              "      <th>episodes</th>\n",
              "      <th>rating</th>\n",
              "      <th>members</th>\n",
              "    </tr>\n",
              "  </thead>\n",
              "  <tbody>\n",
              "    <tr>\n",
              "      <th>0</th>\n",
              "      <td>32281</td>\n",
              "      <td>kimi na wa</td>\n",
              "      <td>drama romance school supernatural</td>\n",
              "      <td>movie</td>\n",
              "      <td>1</td>\n",
              "      <td>9.37</td>\n",
              "      <td>200630</td>\n",
              "    </tr>\n",
              "    <tr>\n",
              "      <th>1</th>\n",
              "      <td>5114</td>\n",
              "      <td>fullmetal alchemist brotherhood</td>\n",
              "      <td>action adventure drama fantasy magic military ...</td>\n",
              "      <td>tv</td>\n",
              "      <td>64</td>\n",
              "      <td>9.26</td>\n",
              "      <td>793665</td>\n",
              "    </tr>\n",
              "    <tr>\n",
              "      <th>2</th>\n",
              "      <td>28977</td>\n",
              "      <td>gintama°</td>\n",
              "      <td>action comedy historical parody samurai scifi ...</td>\n",
              "      <td>tv</td>\n",
              "      <td>51</td>\n",
              "      <td>9.25</td>\n",
              "      <td>114262</td>\n",
              "    </tr>\n",
              "    <tr>\n",
              "      <th>3</th>\n",
              "      <td>9253</td>\n",
              "      <td>steinsgate</td>\n",
              "      <td>scifi thriller</td>\n",
              "      <td>tv</td>\n",
              "      <td>24</td>\n",
              "      <td>9.17</td>\n",
              "      <td>673572</td>\n",
              "    </tr>\n",
              "    <tr>\n",
              "      <th>4</th>\n",
              "      <td>9969</td>\n",
              "      <td>gintama039</td>\n",
              "      <td>action comedy historical parody samurai scifi ...</td>\n",
              "      <td>tv</td>\n",
              "      <td>51</td>\n",
              "      <td>9.16</td>\n",
              "      <td>151266</td>\n",
              "    </tr>\n",
              "  </tbody>\n",
              "</table>\n",
              "</div>"
            ],
            "text/plain": [
              "   anime_id                             name  \\\n",
              "0     32281                       kimi na wa   \n",
              "1      5114  fullmetal alchemist brotherhood   \n",
              "2     28977                         gintama°   \n",
              "3      9253                       steinsgate   \n",
              "4      9969                       gintama039   \n",
              "\n",
              "                                               genre   type episodes  rating  \\\n",
              "0                  drama romance school supernatural  movie        1    9.37   \n",
              "1  action adventure drama fantasy magic military ...     tv       64    9.26   \n",
              "2  action comedy historical parody samurai scifi ...     tv       51    9.25   \n",
              "3                                     scifi thriller     tv       24    9.17   \n",
              "4  action comedy historical parody samurai scifi ...     tv       51    9.16   \n",
              "\n",
              "   members  \n",
              "0   200630  \n",
              "1   793665  \n",
              "2   114262  \n",
              "3   673572  \n",
              "4   151266  "
            ]
          },
          "execution_count": 94,
          "metadata": {},
          "output_type": "execute_result"
        }
      ],
      "source": [
        "print(\"\\nStemmed Data:\")\n",
        "anime_df_copy.head()"
      ]
    },
    {
      "cell_type": "code",
      "execution_count": null,
      "metadata": {},
      "outputs": [],
      "source": []
    },
    {
      "cell_type": "markdown",
      "metadata": {
        "id": "PIKgLzhza4US"
      },
      "source": [
        "### **Exploratory Data Analysis**"
      ]
    },
    {
      "cell_type": "code",
      "execution_count": null,
      "metadata": {
        "id": "1LvfBHkRa_Og"
      },
      "outputs": [],
      "source": [
        "\n"
      ]
    },
    {
      "cell_type": "markdown",
      "metadata": {
        "id": "xs9YGsJYbAhY"
      },
      "source": [
        "### **Unsupervised Learning Models**"
      ]
    },
    {
      "cell_type": "code",
      "execution_count": null,
      "metadata": {
        "id": "vCtu0lmjdUIY"
      },
      "outputs": [],
      "source": []
    },
    {
      "cell_type": "markdown",
      "metadata": {
        "id": "jbKTdYasde7d"
      },
      "source": [
        "### **Conclusions and Insights**"
      ]
    },
    {
      "cell_type": "code",
      "execution_count": null,
      "metadata": {
        "id": "6MDB6458j1o9"
      },
      "outputs": [],
      "source": []
    }
  ],
  "metadata": {
    "colab": {
      "provenance": []
    },
    "kernelspec": {
      "display_name": "Python 3",
      "name": "python3"
    },
    "language_info": {
      "codemirror_mode": {
        "name": "ipython",
        "version": 3
      },
      "file_extension": ".py",
      "mimetype": "text/x-python",
      "name": "python",
      "nbconvert_exporter": "python",
      "pygments_lexer": "ipython3",
      "version": "3.12.3"
    }
  },
  "nbformat": 4,
  "nbformat_minor": 0
}
